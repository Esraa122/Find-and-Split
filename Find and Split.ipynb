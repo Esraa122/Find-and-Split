{
 "cells": [
  {
   "cell_type": "code",
   "execution_count": 3,
   "id": "dfb05576",
   "metadata": {},
   "outputs": [
    {
     "data": {
      "text/plain": [
       "['A', 'o Khayria byslem 3lyk']"
      ]
     },
     "execution_count": 3,
     "metadata": {},
     "output_type": "execute_result"
    }
   ],
   "source": [
    "#Splitting at first Occurance Only\n",
    "\n",
    "def split1(s, char):\n",
    "    out = []\n",
    "    f_s = ''\n",
    "    count = 0\n",
    "    for x in s:\n",
    "        if x == char:\n",
    "            count += 1\n",
    "            if count == 1:\n",
    "                out.append(f_s)\n",
    "                f_s = ''\n",
    "        f_s += x\n",
    "    if f_s:\n",
    "        out.append(f_s[1:]) \n",
    "        \n",
    "    return out\n",
    "\n",
    "split1('Abo Khayria byslem 3lyk', 'b')\n"
   ]
  },
  {
   "cell_type": "code",
   "execution_count": 4,
   "id": "d774dd9d",
   "metadata": {},
   "outputs": [
    {
     "data": {
      "text/plain": [
       "['A', 'o Khayria ', 'yslem 3lyk']"
      ]
     },
     "execution_count": 4,
     "metadata": {},
     "output_type": "execute_result"
    }
   ],
   "source": [
    "#Splitting  Every time the Character Appears\n",
    "\n",
    "def split2(s, char):\n",
    "    out = []\n",
    "    f_s = ''\n",
    "    for x in s:\n",
    "        if x == char:\n",
    "            out.append(f_s)\n",
    "            f_s = ''\n",
    "        else:\n",
    "            f_s += x\n",
    "    if f_s:\n",
    "        out.append(f_s)\n",
    "        \n",
    "    return out\n",
    "\n",
    "split2('Abo Khayria byslem 3lyk', 'b')"
   ]
  }
 ],
 "metadata": {
  "kernelspec": {
   "display_name": "Python 3",
   "language": "python",
   "name": "python3"
  },
  "language_info": {
   "codemirror_mode": {
    "name": "ipython",
    "version": 3
   },
   "file_extension": ".py",
   "mimetype": "text/x-python",
   "name": "python",
   "nbconvert_exporter": "python",
   "pygments_lexer": "ipython3",
   "version": "3.8.8"
  }
 },
 "nbformat": 4,
 "nbformat_minor": 5
}
